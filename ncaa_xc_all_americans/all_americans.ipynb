{
 "cells": [
  {
   "cell_type": "code",
   "execution_count": 1,
   "metadata": {},
   "outputs": [],
   "source": [
    "import pandas as pd\n",
    "from data_cleaning import (\n",
    "    add_time_in_seconds,\n",
    "    add_victory_margin,\n",
    "    clean_results_df,\n",
    "    filter_results_df,\n",
    "    final_format_all_am,\n",
    "    final_format_top_two,\n",
    "    pivot_to_one_row,\n",
    ")\n",
    "from web_scrape_results import get_event_name, scrape_results"
   ]
  },
  {
   "cell_type": "code",
   "execution_count": 2,
   "metadata": {},
   "outputs": [],
   "source": [
    "import warnings\n",
    "\n",
    "warnings.filterwarnings('ignore')"
   ]
  },
  {
   "cell_type": "code",
   "execution_count": 14,
   "metadata": {},
   "outputs": [
    {
     "name": "stdout",
     "output_type": "stream",
     "text": [
      "Women 10000 M (Final)\n",
      "Men 10000 M (Final)\n",
      "Men 4x100 M Relay (Final)\n",
      "Men 1500 M (Final)\n",
      "Men 3000 M Steeple (Final)\n",
      "Men 110 M Hurdles (Final)\n",
      "Men 100 M (Final)\n",
      "Men 400 M (Final)\n",
      "Men 800 M (Final)\n",
      "Men 400 M Hurdles (Final)\n",
      "Men 200 M (Final)\n",
      "Men 5000 M (Final)\n",
      "Men 4x400 M Relay (Final)\n",
      "Women 4x100 M Relay (Final)\n",
      "Women 1500 M (Final)\n",
      "Women 3000 M Steeple (Final)\n",
      "Women 100 M Hurdles (Final)\n",
      "Women 100 M (Final)\n",
      "Women 400 M (Final)\n",
      "Women 800 M (Final)\n",
      "Women 400 M Hurdles (Final)\n",
      "Women 200 M (Final)\n",
      "Women 5000 M (Final)\n",
      "Women 4x400 M Relay (Final)\n"
     ]
    }
   ],
   "source": [
    "all_events = pd.DataFrame()\n",
    "urls = [\n",
    "    'https://flashresults.ncaa.com/Outdoor/2024/028-1_compiled.htm',\n",
    "    'https://flashresults.ncaa.com/Outdoor/2024/008-1_compiled.htm',\n",
    "    'https://flashresults.ncaa.com/Outdoor/2024/011-2_compiled.htm',\n",
    "    'https://flashresults.ncaa.com/Outdoor/2024/005-2_compiled.htm',\n",
    "    'https://flashresults.ncaa.com/Outdoor/2024/006-2_compiled.htm',\n",
    "    'https://flashresults.ncaa.com/Outdoor/2024/009-2_compiled.htm',\n",
    "    'https://flashresults.ncaa.com/Outdoor/2024/001-2_compiled.htm',\n",
    "    'https://flashresults.ncaa.com/Outdoor/2024/003-2_compiled.htm',\n",
    "    'https://flashresults.ncaa.com/Outdoor/2024/004-2_compiled.htm',\n",
    "    'https://flashresults.ncaa.com/Outdoor/2024/010-2_compiled.htm',\n",
    "    'https://flashresults.ncaa.com/Outdoor/2024/002-2_compiled.htm',\n",
    "    'https://flashresults.ncaa.com/Outdoor/2024/007-1_compiled.htm',\n",
    "    'https://flashresults.ncaa.com/Outdoor/2024/012-2_compiled.htm',\n",
    "    'https://flashresults.ncaa.com/Outdoor/2024/031-2_compiled.htm',\n",
    "    'https://flashresults.ncaa.com/Outdoor/2024/025-2_compiled.htm',\n",
    "    'https://flashresults.ncaa.com/Outdoor/2024/026-2_compiled.htm',\n",
    "    'https://flashresults.ncaa.com/Outdoor/2024/029-2_compiled.htm',\n",
    "    'https://flashresults.ncaa.com/Outdoor/2024/021-2_compiled.htm',\n",
    "    'https://flashresults.ncaa.com/Outdoor/2024/023-2_compiled.htm',\n",
    "    'https://flashresults.ncaa.com/Outdoor/2024/024-2_compiled.htm',\n",
    "    'https://flashresults.ncaa.com/Outdoor/2024/030-2_compiled.htm',\n",
    "    'https://flashresults.ncaa.com/Outdoor/2024/022-2_compiled.htm',\n",
    "    'https://flashresults.ncaa.com/Outdoor/2024/027-1_compiled.htm',\n",
    "    'https://flashresults.ncaa.com/Outdoor/2024/032-2_compiled.htm'\n",
    "]\n",
    "for url in urls:\n",
    "    df = scrape_results(url)\n",
    "    event_name = get_event_name(url)\n",
    "    print(event_name)\n",
    "    df['event'] = event_name\n",
    "    all_am_filter = min('8',df.Pl.max())\n",
    "    all_am = filter_results_df(df, list(map(str, list(range(1,int(all_am_filter)+1)))))\n",
    "    # if all_am_filter != '8':\n",
    "    #     all_am.loc[all_am[\"Pl\"] == all_am_filter, \"Pl\"] = \"8\"\n",
    "    # all_am = clean_results_df(all_am, event_name)\n",
    "    # pivot_df_all_am = pivot_to_one_row(all_am)\n",
    "    # final_df_all_am = final_format_all_am(pivot_df_all_am)\n",
    "    # try:\n",
    "    #     all_events = pd.concat([all_events, final_df_all_am])\n",
    "    # except TypeError:  # Catch the specific exception for when all_events is not a list or DataFrame\n",
    "    #     all_events = final_df_all_am  # Initialize all_events with final_df"
   ]
  },
  {
   "cell_type": "code",
   "execution_count": 15,
   "metadata": {},
   "outputs": [
    {
     "data": {
      "text/html": [
       "<div>\n",
       "<style scoped>\n",
       "    .dataframe tbody tr th:only-of-type {\n",
       "        vertical-align: middle;\n",
       "    }\n",
       "\n",
       "    .dataframe tbody tr th {\n",
       "        vertical-align: top;\n",
       "    }\n",
       "\n",
       "    .dataframe thead th {\n",
       "        text-align: right;\n",
       "    }\n",
       "</style>\n",
       "<table border=\"1\" class=\"dataframe\">\n",
       "  <thead>\n",
       "    <tr style=\"text-align: right;\">\n",
       "      <th></th>\n",
       "      <th>Pl</th>\n",
       "      <th>Team</th>\n",
       "      <th>Time</th>\n",
       "      <th>event</th>\n",
       "    </tr>\n",
       "  </thead>\n",
       "  <tbody>\n",
       "  </tbody>\n",
       "</table>\n",
       "</div>"
      ],
      "text/plain": [
       "Empty DataFrame\n",
       "Columns: [Pl, Team, Time, event]\n",
       "Index: []"
      ]
     },
     "execution_count": 15,
     "metadata": {},
     "output_type": "execute_result"
    }
   ],
   "source": [
    "all_am"
   ]
  },
  {
   "cell_type": "code",
   "execution_count": 16,
   "metadata": {},
   "outputs": [
    {
     "data": {
      "text/plain": [
       "['1', '2', '3', '4', '5', '6', '7', '8']"
      ]
     },
     "execution_count": 16,
     "metadata": {},
     "output_type": "execute_result"
    }
   ],
   "source": [
    "list(map(str, list(range(1,int(all_am_filter)+1))))"
   ]
  },
  {
   "cell_type": "code",
   "execution_count": null,
   "metadata": {},
   "outputs": [],
   "source": []
  }
 ],
 "metadata": {
  "kernelspec": {
   "display_name": "Python 3",
   "language": "python",
   "name": "python3"
  },
  "language_info": {
   "codemirror_mode": {
    "name": "ipython",
    "version": 3
   },
   "file_extension": ".py",
   "mimetype": "text/x-python",
   "name": "python",
   "nbconvert_exporter": "python",
   "pygments_lexer": "ipython3",
   "version": "3.11.7"
  }
 },
 "nbformat": 4,
 "nbformat_minor": 2
}
