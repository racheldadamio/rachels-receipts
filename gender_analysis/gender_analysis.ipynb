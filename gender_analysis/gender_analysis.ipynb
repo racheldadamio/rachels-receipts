{
 "cells": [
  {
   "cell_type": "code",
   "execution_count": 1,
   "metadata": {},
   "outputs": [],
   "source": [
    "import pandas as pd"
   ]
  },
  {
   "cell_type": "code",
   "execution_count": 9,
   "metadata": {},
   "outputs": [],
   "source": [
    "results_2024 = pd.read_csv(\"Runners_all_results.csv\", encoding='latin-1')\n",
    "mens_results_2024 = results_2024[results_2024[\"Gender\"]==\"M\"][[\"RankOverGender\",\"OfficialTime\"]]\n",
    "womens_results_2024 = results_2024[results_2024[\"Gender\"]==\"F\"][[\"RankOverGender\",\"OfficialTime\"]]\n",
    "results_compare = mens_results_2024.merge(womens_results_2024, how=\"inner\", on=\"RankOverGender\", suffixes=[\"Men\",\"Women\"])"
   ]
  },
  {
   "cell_type": "code",
   "execution_count": 15,
   "metadata": {},
   "outputs": [
    {
     "data": {
      "text/plain": [
       "(14578, 2)"
      ]
     },
     "execution_count": 15,
     "metadata": {},
     "output_type": "execute_result"
    }
   ],
   "source": [
    "mens_results_2024.shape"
   ]
  },
  {
   "cell_type": "code",
   "execution_count": 16,
   "metadata": {},
   "outputs": [
    {
     "data": {
      "text/plain": [
       "(10904, 2)"
      ]
     },
     "execution_count": 16,
     "metadata": {},
     "output_type": "execute_result"
    }
   ],
   "source": [
    "womens_results_2024.shape"
   ]
  },
  {
   "cell_type": "code",
   "execution_count": 10,
   "metadata": {},
   "outputs": [
    {
     "data": {
      "text/html": [
       "<div>\n",
       "<style scoped>\n",
       "    .dataframe tbody tr th:only-of-type {\n",
       "        vertical-align: middle;\n",
       "    }\n",
       "\n",
       "    .dataframe tbody tr th {\n",
       "        vertical-align: top;\n",
       "    }\n",
       "\n",
       "    .dataframe thead th {\n",
       "        text-align: right;\n",
       "    }\n",
       "</style>\n",
       "<table border=\"1\" class=\"dataframe\">\n",
       "  <thead>\n",
       "    <tr style=\"text-align: right;\">\n",
       "      <th></th>\n",
       "      <th>RankOverGender</th>\n",
       "      <th>OfficialTimeMen</th>\n",
       "      <th>OfficialTimeWomen</th>\n",
       "    </tr>\n",
       "  </thead>\n",
       "  <tbody>\n",
       "    <tr>\n",
       "      <th>0</th>\n",
       "      <td>1</td>\n",
       "      <td>2:06:17</td>\n",
       "      <td>2:22:37</td>\n",
       "    </tr>\n",
       "    <tr>\n",
       "      <th>1</th>\n",
       "      <td>2</td>\n",
       "      <td>2:06:58</td>\n",
       "      <td>2:22:45</td>\n",
       "    </tr>\n",
       "    <tr>\n",
       "      <th>2</th>\n",
       "      <td>3</td>\n",
       "      <td>2:07:22</td>\n",
       "      <td>2:23:21</td>\n",
       "    </tr>\n",
       "    <tr>\n",
       "      <th>3</th>\n",
       "      <td>4</td>\n",
       "      <td>2:07:40</td>\n",
       "      <td>2:24:04</td>\n",
       "    </tr>\n",
       "    <tr>\n",
       "      <th>4</th>\n",
       "      <td>5</td>\n",
       "      <td>2:07:47</td>\n",
       "      <td>2:24:04</td>\n",
       "    </tr>\n",
       "  </tbody>\n",
       "</table>\n",
       "</div>"
      ],
      "text/plain": [
       "   RankOverGender OfficialTimeMen OfficialTimeWomen\n",
       "0               1         2:06:17           2:22:37\n",
       "1               2         2:06:58           2:22:45\n",
       "2               3         2:07:22           2:23:21\n",
       "3               4         2:07:40           2:24:04\n",
       "4               5         2:07:47           2:24:04"
      ]
     },
     "execution_count": 10,
     "metadata": {},
     "output_type": "execute_result"
    }
   ],
   "source": [
    "results_compare.head()"
   ]
  },
  {
   "cell_type": "code",
   "execution_count": 12,
   "metadata": {},
   "outputs": [],
   "source": [
    "# Convert the time columns to timedelta objects\n",
    "results_compare['OfficialTimeMen'] = pd.to_timedelta(results_compare['OfficialTimeMen'])\n",
    "results_compare['OfficialTimeWomen'] = pd.to_timedelta(results_compare['OfficialTimeWomen'])\n",
    "\n",
    "# Calculate the time difference\n",
    "results_compare['time_diff'] = results_compare['OfficialTimeMen'] - results_compare['OfficialTimeWomen']\n",
    "\n",
    "# Convert the time difference to seconds\n",
    "results_compare['time_diff_seconds'] = results_compare['time_diff'].dt.total_seconds()\n",
    "\n",
    "# Calculate the percentage difference (absolute)\n",
    "results_compare['percent_diff'] = (results_compare['time_diff_seconds'].abs() / results_compare['OfficialTimeMen'].dt.total_seconds()) * 100"
   ]
  },
  {
   "cell_type": "code",
   "execution_count": 14,
   "metadata": {},
   "outputs": [
    {
     "data": {
      "text/html": [
       "<div>\n",
       "<style scoped>\n",
       "    .dataframe tbody tr th:only-of-type {\n",
       "        vertical-align: middle;\n",
       "    }\n",
       "\n",
       "    .dataframe tbody tr th {\n",
       "        vertical-align: top;\n",
       "    }\n",
       "\n",
       "    .dataframe thead th {\n",
       "        text-align: right;\n",
       "    }\n",
       "</style>\n",
       "<table border=\"1\" class=\"dataframe\">\n",
       "  <thead>\n",
       "    <tr style=\"text-align: right;\">\n",
       "      <th></th>\n",
       "      <th>RankOverGender</th>\n",
       "      <th>OfficialTimeMen</th>\n",
       "      <th>OfficialTimeWomen</th>\n",
       "      <th>time_diff</th>\n",
       "      <th>time_diff_seconds</th>\n",
       "      <th>percent_diff</th>\n",
       "    </tr>\n",
       "  </thead>\n",
       "  <tbody>\n",
       "    <tr>\n",
       "      <th>10899</th>\n",
       "      <td>10900</td>\n",
       "      <td>0 days 04:11:33</td>\n",
       "      <td>0 days 06:29:42</td>\n",
       "      <td>-1 days +21:41:51</td>\n",
       "      <td>-8289.0</td>\n",
       "      <td>54.919499</td>\n",
       "    </tr>\n",
       "    <tr>\n",
       "      <th>10900</th>\n",
       "      <td>10901</td>\n",
       "      <td>0 days 04:11:37</td>\n",
       "      <td>0 days 06:30:33</td>\n",
       "      <td>-1 days +21:41:04</td>\n",
       "      <td>-8336.0</td>\n",
       "      <td>55.216268</td>\n",
       "    </tr>\n",
       "    <tr>\n",
       "      <th>10901</th>\n",
       "      <td>10902</td>\n",
       "      <td>0 days 04:11:37</td>\n",
       "      <td>0 days 06:31:56</td>\n",
       "      <td>-1 days +21:39:41</td>\n",
       "      <td>-8419.0</td>\n",
       "      <td>55.766046</td>\n",
       "    </tr>\n",
       "    <tr>\n",
       "      <th>10902</th>\n",
       "      <td>10903</td>\n",
       "      <td>0 days 04:11:38</td>\n",
       "      <td>0 days 06:33:04</td>\n",
       "      <td>-1 days +21:38:34</td>\n",
       "      <td>-8486.0</td>\n",
       "      <td>56.206120</td>\n",
       "    </tr>\n",
       "    <tr>\n",
       "      <th>10903</th>\n",
       "      <td>10904</td>\n",
       "      <td>0 days 04:11:40</td>\n",
       "      <td>0 days 06:34:31</td>\n",
       "      <td>-1 days +21:37:09</td>\n",
       "      <td>-8571.0</td>\n",
       "      <td>56.761589</td>\n",
       "    </tr>\n",
       "  </tbody>\n",
       "</table>\n",
       "</div>"
      ],
      "text/plain": [
       "       RankOverGender OfficialTimeMen OfficialTimeWomen         time_diff  \\\n",
       "10899           10900 0 days 04:11:33   0 days 06:29:42 -1 days +21:41:51   \n",
       "10900           10901 0 days 04:11:37   0 days 06:30:33 -1 days +21:41:04   \n",
       "10901           10902 0 days 04:11:37   0 days 06:31:56 -1 days +21:39:41   \n",
       "10902           10903 0 days 04:11:38   0 days 06:33:04 -1 days +21:38:34   \n",
       "10903           10904 0 days 04:11:40   0 days 06:34:31 -1 days +21:37:09   \n",
       "\n",
       "       time_diff_seconds  percent_diff  \n",
       "10899            -8289.0     54.919499  \n",
       "10900            -8336.0     55.216268  \n",
       "10901            -8419.0     55.766046  \n",
       "10902            -8486.0     56.206120  \n",
       "10903            -8571.0     56.761589  "
      ]
     },
     "execution_count": 14,
     "metadata": {},
     "output_type": "execute_result"
    }
   ],
   "source": [
    "# TODO - compare by percentile place not absolute place (because there is a different quantity of men vs. women)\n",
    "results_compare.tail()"
   ]
  },
  {
   "cell_type": "code",
   "execution_count": null,
   "metadata": {},
   "outputs": [],
   "source": []
  }
 ],
 "metadata": {
  "kernelspec": {
   "display_name": "Python 3",
   "language": "python",
   "name": "python3"
  },
  "language_info": {
   "codemirror_mode": {
    "name": "ipython",
    "version": 3
   },
   "file_extension": ".py",
   "mimetype": "text/x-python",
   "name": "python",
   "nbconvert_exporter": "python",
   "pygments_lexer": "ipython3",
   "version": "3.11.7"
  }
 },
 "nbformat": 4,
 "nbformat_minor": 2
}
